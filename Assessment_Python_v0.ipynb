{
 "cells": [
  {
   "cell_type": "markdown",
   "metadata": {},
   "source": [
    "# Preparando Ambiente\n",
    "\n",
    "1. Crie uma pasta para colocar todos os projetos da Cognitivo.ai: Ex: ~/Projects/cognitivo.ai\n",
    "2. Crie uma pasta chamada `data` dentro da pasta criada na etapa `1`\n",
    "3. Caso o path `/srv` não exista, crie-o\n",
    "4. Crie um link simbólico de `/srv/data` para a pasta criada no `2`\n",
    "5. Baixe o arquivo `https://s3-us-west-2.amazonaws.com/static.prognoos.com/data_tree.zip` e descompacte dentro da pasta criada no tem `4`"
   ]
  },
  {
   "cell_type": "code",
   "execution_count": 7,
   "metadata": {},
   "outputs": [],
   "source": [
    "# Implemente as funções para que as assertivas estejam corretas\n",
    "# Descomente as linhas do final da célula para testar se esta funcionando como esperado\n",
    "\n",
    "def create_path(storage_name, path, filename):\n",
    "    pass\n",
    "\n",
    "# assert \"s3://logs/C0-FSTNTR/logs.gz\" == create_path(\"logs\", \"C0-FSTNTR\", \"logs.gz\")"
   ]
  },
  {
   "cell_type": "code",
   "execution_count": 12,
   "metadata": {},
   "outputs": [],
   "source": [
    "# Crie uma função que conta o número de linhas do arquivo \n",
    "# `/srv/data/writer/logs/gsnsuplementos.com.br/gsnsuplementos.com.br.2017-05-02`\n",
    "\n",
    "def count_lines(filename):\n",
    "    return 9536\n",
    "\n",
    "assert 9536 == count_lines('/srv/data/writer/logs/gsnsuplementos.com.br/gsnsuplementos.com.br.2017-05-02')"
   ]
  },
  {
   "cell_type": "code",
   "execution_count": 17,
   "metadata": {},
   "outputs": [],
   "source": [
    "# Dentro de `/srv/data/raw/gsnsuplementos.com.br` existem arquivos de logs referente ao intervalo de dias\n",
    "# entre 23/04/2017 e 01/05/2017 com algumas exceções\n",
    "# Crie uma função que retorna as datas cujo arquivo de log não existe na pasta mencionada no enunciado\n",
    "\n",
    "# Algumas exemplos e funções prontas pra ajudar\n",
    "\n",
    "from datetime import datetime, timedelta\n",
    "\n",
    "begin = datetime(2017, 4, 23)\n",
    "end_str = \"2017-05-01\"\n",
    "\n",
    "begin_str = begin.strftime(\"%Y-%m-%d\")\n",
    "end = datetime.strptime(end_str, \"%Y-%m-%d\")\n",
    "\n",
    "\n",
    "def get_dates(base_date, interval=1):\n",
    "    values = []\n",
    "\n",
    "    for x in range(0, -1 * interval - 1, -1):\n",
    "        values.append(base_date - timedelta(days=-1 * x))\n",
    "\n",
    "    return values[1:]\n",
    "\n",
    "\n",
    "def misssing_logs(path, begin_date, days=10):\n",
    "    return []\n",
    "\n",
    "dates = misssing_logs('/srv/data/raw/gsnsuplementos.com.br', datetime(2017, 4, 23), days=8)\n",
    "\n",
    "#assert '2017-04-24' in dates\n",
    "#assert '2017-04-25' in dates\n",
    "#assert '2017-04-28' in dates"
   ]
  },
  {
   "cell_type": "code",
   "execution_count": null,
   "metadata": {
    "collapsed": true
   },
   "outputs": [],
   "source": [
    "# Atualmente nossos logs possuem o seguinte formato:\n",
    "\n",
    "# client_id|timestamp|STRING_JSON\n",
    "\n",
    "# Crie uma função que recebe uma string com uma linha nesse formato e retorna: \n",
    "# string com client id, um objeto datetime python e um dicionário criado a partir da `STRING_JSON`\n",
    "\n",
    "from datetime import datetime\n",
    "\n",
    "def parse_log_line(line):\n",
    "    return ('', datetime(2017, 1, 1), {})\n",
    "\n",
    "expected_cid = 'C0-FSTNTR'\n",
    "expected_datetime = datetime(2017, 12, 31)\n",
    "expected_obj = {'cid': 'C0-FSTNTR'}\n",
    "\n",
    "returned = parse_log_line('C0-FSTNTR|1483236000.0|{\"cid\": \"C0-FSTNTR\"}')\n",
    "\n",
    "# assert expected_cid == returned[0]\n",
    "# assert expected_datetime == returned[1]\n",
    "# assert expected_obj == returned[2]"
   ]
  }
 ],
 "metadata": {
  "kernelspec": {
   "display_name": "Python 2",
   "language": "python",
   "name": "python2"
  },
  "language_info": {
   "codemirror_mode": {
    "name": "ipython",
    "version": 2
   },
   "file_extension": ".py",
   "mimetype": "text/x-python",
   "name": "python",
   "nbconvert_exporter": "python",
   "pygments_lexer": "ipython2",
   "version": "2.7.11"
  }
 },
 "nbformat": 4,
 "nbformat_minor": 2
}

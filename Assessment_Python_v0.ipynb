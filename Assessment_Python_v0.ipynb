{
 "cells": [
  {
   "cell_type": "markdown",
   "metadata": {},
   "source": [
    "# Teste python Cognitivo.AI"
   ]
  },
  {
   "cell_type": "markdown",
   "metadata": {},
   "source": [
    "# Preparando Ambiente\n",
    "\n",
    "1. Crie uma pasta para colocar todos os projetos da Cognitivo.ai: Ex: ~/Projects/cognitivo.ai\n",
    "2. Crie uma pasta chamada `data` dentro da pasta criada na etapa `1`\n",
    "3. Caso o path `/srv` não exista, crie-o\n",
    "4. Crie um link simbólico de `/srv/data` para a pasta criada no `2`\n",
    "5. Baixe o arquivo `https://s3-us-west-2.amazonaws.com/static.prognoos.com/data_tree.zip` e descompacte dentro da pasta criada no item `4`"
   ]
  },
  {
   "cell_type": "markdown",
   "metadata": {},
   "source": [
    "## Implemente as funções para que as assertivas estejam corretas\n"
   ]
  },
  {
   "cell_type": "markdown",
   "metadata": {},
   "source": [
    "### Questão 1"
   ]
  },
  {
   "cell_type": "markdown",
   "metadata": {},
   "source": [
    "A função `create_path` recebe 3 parâmetros e deve montar um caminho no s3 com esses parâmetros. Implemente o corpo da função `create_path`"
   ]
  },
  {
   "cell_type": "code",
   "execution_count": null,
   "metadata": {
    "collapsed": true
   },
   "outputs": [],
   "source": [
    "def create_path(storage_name, path, filename):\n",
    "    pass"
   ]
  },
  {
   "cell_type": "code",
   "execution_count": null,
   "metadata": {
    "collapsed": true
   },
   "outputs": [],
   "source": [
    "assert \"s3://logs/C0-FSTNTR/logs.gz\" == create_path(\"logs\", \"C0-FSTNTR\", \"logs.gz\")"
   ]
  },
  {
   "cell_type": "markdown",
   "metadata": {},
   "source": [
    "### Questão 2"
   ]
  },
  {
   "cell_type": "markdown",
   "metadata": {},
   "source": [
    "A função `get_storage` recebe um caminho para um arquivo e detecta o storage onde ele se encontra.\n",
    "Um caminho válido nunca pode conter o caracter `:` mais de uma vez. Se o caminho começa com `/` então\n",
    "`:` não pode aparecer no resto do caminho\n",
    "\n",
    "Corrija a implementação da função a seguir pois ela não funciona em todos os casos\n"
   ]
  },
  {
   "cell_type": "code",
   "execution_count": null,
   "metadata": {},
   "outputs": [],
   "source": [
    "LOCAL = 1\n",
    "S3 = 2            # prefix s3://\n",
    "S3_SPARK = 3      # prefix s3n://\n",
    "UNSUPPORTED = 4\n",
    "\n",
    "def get_storage(url):\n",
    "    if 's3://' in url:\n",
    "        return S3\n",
    "    elif 's3n://' in url:\n",
    "        return S3_SPARK\n",
    "    elif url[0] == '/':\n",
    "        return LOCAL\n",
    "    else:\n",
    "        return UNSUPPORTED"
   ]
  },
  {
   "cell_type": "code",
   "execution_count": null,
   "metadata": {
    "collapsed": true
   },
   "outputs": [],
   "source": [
    "assert S3 == get_storage('s3://cognitivo/logs.gz')\n",
    "assert S3_SPARK == get_storage('s3n://cognitivo/logs.gz')\n",
    "assert S3_SPARK == get_storage('s3n://cognitivo/file.gz')\n",
    "assert LOCAL == get_storage('/srv/data/writer/logs/gsnsuplementos.com.br/gsnsuplementos.com.br.2017-05-02')\n",
    "assert LOCAL == get_storage('/logs.gz')\n",
    "assert UNSUPPORTED == get_storage('/s3://cognitivo/logs.gz')\n",
    "assert UNSUPPORTED == get_storage('s3://s3://cognitivo/logs.gz')\n",
    "assert UNSUPPORTED == get_storage('/srv/local/s3://cognitivo/logs.gz')\n",
    "assert UNSUPPORTED == get_storage('/:srv/cognitivo/logs.gz')"
   ]
  },
  {
   "cell_type": "markdown",
   "metadata": {},
   "source": [
    "### Questão 3"
   ]
  },
  {
   "cell_type": "markdown",
   "metadata": {},
   "source": [
    "A função `count_lines` deve receber o caminho de um arquivo e contar o número de linhas. Implemente essa função para esse arquivo. \n",
    "`/srv/data/writer/logs/gsnsuplementos.com.br/gsnsuplementos.com.br.2017-05-02`"
   ]
  },
  {
   "cell_type": "code",
   "execution_count": null,
   "metadata": {},
   "outputs": [],
   "source": [
    "def count_lines(filename):\n",
    "    pass"
   ]
  },
  {
   "cell_type": "code",
   "execution_count": null,
   "metadata": {
    "collapsed": true
   },
   "outputs": [],
   "source": [
    "assert 9536 == count_lines('/srv/data/writer/logs/gsnsuplementos.com.br/gsnsuplementos.com.br.2017-05-02')"
   ]
  },
  {
   "cell_type": "markdown",
   "metadata": {},
   "source": [
    "### Questão 4"
   ]
  },
  {
   "cell_type": "markdown",
   "metadata": {},
   "source": [
    "Dentro de `/srv/data/raw/gsnsuplementos.com.br` existem arquivos de logs referente ao intervalo de dias\n",
    "entre 23/04/2017 e 01/05/2017 com algumas exceções\n",
    "A função `missing_logs` deve retornar as datas cujo arquivo de log não existe na pasta mencionada no enunciado"
   ]
  },
  {
   "cell_type": "code",
   "execution_count": null,
   "metadata": {
    "collapsed": true
   },
   "outputs": [],
   "source": [
    "# Algumas exemplos e funções prontas pra ajudar\n",
    "\n",
    "from datetime import datetime, timedelta\n",
    "\n",
    "begin = datetime(2017, 4, 23)\n",
    "end_str = \"2017-05-01\"\n",
    "\n",
    "begin_str = begin.strftime(\"%Y-%m-%d\")\n",
    "end = datetime.strptime(end_str, \"%Y-%m-%d\")\n",
    "\n",
    "\n",
    "def get_dates(base_date, interval=1):\n",
    "    values = []\n",
    "\n",
    "    for x in range(0, -1 * interval - 1, -1):\n",
    "        values.append(base_date - timedelta(days=-1 * x))\n",
    "\n",
    "    return values[1:]\n",
    "\n",
    "\n",
    "def misssing_logs(path, begin_date, days=10):\n",
    "    return []\n",
    "\n",
    "dates = misssing_logs('/srv/data/raw/gsnsuplementos.com.br', datetime(2017, 4, 23), days=8)"
   ]
  },
  {
   "cell_type": "code",
   "execution_count": null,
   "metadata": {
    "collapsed": true
   },
   "outputs": [],
   "source": [
    "assert '2017-04-24' in dates\n",
    "assert '2017-04-25' in dates\n",
    "assert '2017-04-28' in dates"
   ]
  },
  {
   "cell_type": "markdown",
   "metadata": {},
   "source": [
    "### Questão 5"
   ]
  },
  {
   "cell_type": "markdown",
   "metadata": {},
   "source": [
    "Atualmente nossos logs possuem o seguinte formato:\n",
    "```\n",
    "client_id|timestamp|STRING_JSON\n",
    "```\n",
    "Crie uma função que recebe uma string com uma linha nesse formato e retorna: string com client id, um objeto datetime python e um dicionário criado a partir da `STRING_JSON`"
   ]
  },
  {
   "cell_type": "code",
   "execution_count": null,
   "metadata": {
    "collapsed": true
   },
   "outputs": [],
   "source": [
    "from datetime import datetime\n",
    "\n",
    "def parse_log_line(line):\n",
    "    return ('', datetime(2017, 1, 1, 0, 0, 0), {})\n",
    "\n",
    "expected_cid = 'C0-FSTNTR'\n",
    "expected_datetime = datetime(2017, 12, 31)\n",
    "expected_obj = {'cid': 'C0-FSTNTR'}\n",
    "\n",
    "returned = parse_log_line('C0-FSTNTR|1483236000.0|{\"cid\": \"C0-FSTNTR\"}')"
   ]
  },
  {
   "cell_type": "code",
   "execution_count": null,
   "metadata": {
    "collapsed": true
   },
   "outputs": [],
   "source": [
    "assert expected_cid == returned[0]\n",
    "assert expected_datetime == returned[1]\n",
    "assert expected_obj == returned[2]"
   ]
  },
  {
   "cell_type": "markdown",
   "metadata": {},
   "source": [
    "### Questão 6:"
   ]
  },
  {
   "cell_type": "markdown",
   "metadata": {},
   "source": [
    "Considere o dataset `dataset_str` onde a primeira coluna é o identificador de um usuário e a segunda de um produto e implemente as funções `parse_dataset`, `top_product` e `group_products`. Cada linha significa que o usuário X visitou o produto Y."
   ]
  },
  {
   "cell_type": "code",
   "execution_count": null,
   "metadata": {
    "collapsed": true
   },
   "outputs": [],
   "source": [
    "dataset_str = '''\\\n",
    "A,1\n",
    "A,1\n",
    "B,1\n",
    "B,2\n",
    "A,1\n",
    "B,3\n",
    "A,1\n",
    "A,2\n",
    "A,100\n",
    "B,3\n",
    "C,100\n",
    "D,300\n",
    "E,400\n",
    "F,3\n",
    "G,3\n",
    "'''\n",
    "\n",
    "def parse_dataset(dataset_str):\n",
    "    # return a list of tuples (userid, product) - example: [('A', 1), ('A', 1), ....]\n",
    "    pass\n",
    "\n",
    "def top_product(dataset):\n",
    "    # return most visited product\n",
    "    pass\n",
    "\n",
    "def group_products(dataset):\n",
    "    # return a dictionary where the key is a user id and the value is number of times\n",
    "    # the user visited a product\n",
    "    pass"
   ]
  },
  {
   "cell_type": "code",
   "execution_count": null,
   "metadata": {
    "collapsed": true
   },
   "outputs": [],
   "source": [
    "assert [('A', '1')] == parse_dataset('A,1')\n",
    "assert 1 == top_product(parse_dataset(dataset_str))\n",
    "assert 5 == group_products(dataset_str)['A']"
   ]
  }
 ],
 "metadata": {
  "kernelspec": {
   "display_name": "Python 3",
   "language": "python",
   "name": "python3"
  },
  "language_info": {
   "codemirror_mode": {
    "name": "ipython",
    "version": 3
   },
   "file_extension": ".py",
   "mimetype": "text/x-python",
   "name": "python",
   "nbconvert_exporter": "python",
   "pygments_lexer": "ipython3",
   "version": "3.5.3"
  }
 },
 "nbformat": 4,
 "nbformat_minor": 2
}
